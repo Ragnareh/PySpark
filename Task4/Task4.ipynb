{
 "cells": [
  {
   "cell_type": "code",
   "execution_count": 1,
   "metadata": {
    "collapsed": true
   },
   "outputs": [],
   "source": [
    "#from _future_ import print_function\n",
    "\n",
    "from pyspark.sql import SparkSession\n",
    "# $example on:schema_merging$\n",
    "from pyspark.sql import Row\n",
    "# $example off:schema_merging$\n",
    "\n",
    "from pyspark.sql.window import Window\n",
    "\n",
    "from pyspark.sql.functions import dense_rank"
   ]
  },
  {
   "cell_type": "code",
   "execution_count": 2,
   "metadata": {
    "collapsed": true
   },
   "outputs": [],
   "source": [
    "ss = SparkSession \\\n",
    "    .builder \\\n",
    "    .appName(\"Python Spark SQL data source example\") \\\n",
    "    .getOrCreate()\n",
    "path = \"D://_E/Spark_training/SparkPythonTraining/Task4/\"  "
   ]
  },
  {
   "cell_type": "code",
   "execution_count": 3,
   "metadata": {
    "collapsed": true
   },
   "outputs": [],
   "source": [
    "df_p = ss.read.load(path + \"products.csv\",\n",
    "                         format=\"csv\", sep=\";\", inferSchema=\"true\", header=\"true\")\n",
    "#df_p.show()"
   ]
  },
  {
   "cell_type": "code",
   "execution_count": 4,
   "metadata": {
    "collapsed": true
   },
   "outputs": [],
   "source": [
    "df_oi = ss.read.load(path + \"order_items.csv\",\n",
    "                         format=\"csv\", sep=\";\", inferSchema=\"true\", header=\"true\")\n",
    "#df_oi.show()"
   ]
  },
  {
   "cell_type": "code",
   "execution_count": 5,
   "metadata": {
    "collapsed": true
   },
   "outputs": [],
   "source": [
    "df_s = df_oi.join(df_p, df_oi.product_id == df_p.product_id, 'inner')\\\n",
    "    .select (df_p.category, df_p.name,(df_oi.quantity * df_p.price).alias('cost'))\\\n",
    "    .groupby( df_p.category, df_p.name)\\\n",
    "    .sum ('cost')\\\n",
    "    .withColumnRenamed('sum(cost)', 'cost')   \n",
    "#df_s.show() "
   ]
  },
  {
   "cell_type": "code",
   "execution_count": 6,
   "metadata": {
    "collapsed": true
   },
   "outputs": [],
   "source": [
    "w =  Window.partitionBy(df_s.category ).orderBy(df_s.cost.desc())"
   ]
  },
  {
   "cell_type": "code",
   "execution_count": 7,
   "metadata": {
    "collapsed": true
   },
   "outputs": [],
   "source": [
    "df_out = df_s.select( \"category\", \"name\", dense_rank().over(w).alias(\"rank\"), \"cost\")\\\n",
    "    .filter(\"rank <= 3\").select(\"category\", \"name\",\"cost\")\\\n",
    "    .sort([\"category\",\"cost\"], ascending=[True,False])\n",
    "#df_out.show()"
   ]
  },
  {
   "cell_type": "code",
   "execution_count": 9,
   "metadata": {},
   "outputs": [],
   "source": [
    "df_out.write.csv(path + \"answer.csv\", sep=';')"
   ]
  },
  {
   "cell_type": "code",
   "execution_count": 10,
   "metadata": {
    "collapsed": true
   },
   "outputs": [],
   "source": [
    "df_out.repartition(1).write.csv(path + \"cc_out.csv\", sep=';', header = 'true')"
   ]
  },
  {
   "cell_type": "code",
   "execution_count": 11,
   "metadata": {
    "collapsed": true
   },
   "outputs": [],
   "source": [
    "ss.stop()"
   ]
  }
 ],
 "metadata": {
  "kernelspec": {
   "display_name": "Python 3",
   "language": "python",
   "name": "python3"
  },
  "language_info": {
   "codemirror_mode": {
    "name": "ipython",
    "version": 3
   },
   "file_extension": ".py",
   "mimetype": "text/x-python",
   "name": "python",
   "nbconvert_exporter": "python",
   "pygments_lexer": "ipython3",
   "version": "3.6.3"
  }
 },
 "nbformat": 4,
 "nbformat_minor": 2
}
