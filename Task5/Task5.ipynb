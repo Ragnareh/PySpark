{
 "cells": [
  {
   "cell_type": "code",
   "execution_count": 1,
   "metadata": {
    "collapsed": true
   },
   "outputs": [],
   "source": [
    "#from _future_ import print_function\n",
    "\n",
    "from pyspark.sql import SparkSession\n",
    "# $example on:schema_merging$\n",
    "from pyspark.sql import Row\n",
    "# $example off:schema_merging$\n",
    "\n",
    "from pyspark.sql.window import Window\n",
    "\n",
    "from pyspark.sql.functions import dense_rank\n",
    "\n",
    "# using SQLContext to read parquet file\n",
    "from pyspark.sql import SQLContext"
   ]
  },
  {
   "cell_type": "code",
   "execution_count": 2,
   "metadata": {
    "collapsed": true
   },
   "outputs": [],
   "source": [
    "path = \"D://_E/Spark_training/SparkPythonTraining/Task5/\"  "
   ]
  },
  {
   "cell_type": "code",
   "execution_count": 9,
   "metadata": {
    "collapsed": true
   },
   "outputs": [],
   "source": [
    "spark = SparkSession.builder \\\n",
    "    .master('local') \\\n",
    "    .appName('Python Spark SQL csv vs parket example') \\\n",
    "    .config('spark.executor.memory', '5gb') \\\n",
    "    .config(\"spark.cores.max\", \"6\") \\\n",
    "    .getOrCreate()"
   ]
  },
  {
   "cell_type": "code",
   "execution_count": 10,
   "metadata": {
    "collapsed": true
   },
   "outputs": [],
   "source": [
    "sc = spark.sparkContext\n",
    "sqlContext = SQLContext(sc)"
   ]
  },
  {
   "cell_type": "code",
   "execution_count": 12,
   "metadata": {},
   "outputs": [
    {
     "name": "stdout",
     "output_type": "stream",
     "text": [
      "Wall time: 3.03 s\n"
     ]
    }
   ],
   "source": [
    "%%time\n",
    "#csv\n",
    "df_s = spark.read.load(path + \"stuff.csv\",\n",
    "                         format=\"csv\", sep=\",\", inferSchema=\"true\", header=\"true\")\n",
    "#df_oi.show()"
   ]
  },
  {
   "cell_type": "code",
   "execution_count": 11,
   "metadata": {},
   "outputs": [
    {
     "name": "stdout",
     "output_type": "stream",
     "text": [
      "Wall time: 973 ms\n"
     ]
    }
   ],
   "source": [
    "%%time\n",
    "# to read parquet file\n",
    "df_sp = sqlContext.read.parquet(path + \"stuff.parquet\")\n",
    "#df_sp.show()"
   ]
  },
  {
   "cell_type": "code",
   "execution_count": 22,
   "metadata": {
    "collapsed": true
   },
   "outputs": [],
   "source": [
    "df_s.registerTempTable(\"stuff\")\n",
    "df_sp.registerTempTable(\"stuff_parquet\")\n",
    "top_n = '5'"
   ]
  },
  {
   "cell_type": "code",
   "execution_count": 23,
   "metadata": {},
   "outputs": [
    {
     "name": "stdout",
     "output_type": "stream",
     "text": [
      "+-------------+--------+\n",
      "|sum(duration)|    from|\n",
      "+-------------+--------+\n",
      "|      7609893|   Gomel|\n",
      "|      7606500|   Minsk|\n",
      "|      7600506|Warshava|\n",
      "|      7592524|  Berlin|\n",
      "|      7585043| Vitebsk|\n",
      "+-------------+--------+\n",
      "\n",
      "Wall time: 3.49 s\n"
     ]
    }
   ],
   "source": [
    "%%time\n",
    "stuff_top_n = sqlContext.sql(\"SELECT SUM(duration), from FROM stuff GROUP BY 2 ORDER BY SUM(duration) DESC LIMIT \" + top_n)\n",
    "stuff_top_n.show()"
   ]
  },
  {
   "cell_type": "code",
   "execution_count": 24,
   "metadata": {},
   "outputs": [
    {
     "name": "stdout",
     "output_type": "stream",
     "text": [
      "+-------------+-------+\n",
      "|sum(duration)|   from|\n",
      "+-------------+-------+\n",
      "|      7612205| Berlin|\n",
      "|      7607177|Vinitsa|\n",
      "|      7601572|  Paris|\n",
      "|      7599302|  Brest|\n",
      "|      7598566|  Gomel|\n",
      "+-------------+-------+\n",
      "\n",
      "Wall time: 1.85 s\n"
     ]
    }
   ],
   "source": [
    "%%time\n",
    "stuff_top_n = sqlContext.sql(\"SELECT SUM(duration), from FROM stuff_parquet GROUP BY 2 ORDER BY SUM(duration) DESC LIMIT \" + top_n)\n",
    "stuff_top_n.show()"
   ]
  },
  {
   "cell_type": "code",
   "execution_count": 25,
   "metadata": {
    "collapsed": true
   },
   "outputs": [],
   "source": [
    "spark.stop()"
   ]
  }
 ],
 "metadata": {
  "kernelspec": {
   "display_name": "Python 3",
   "language": "python",
   "name": "python3"
  },
  "language_info": {
   "codemirror_mode": {
    "name": "ipython",
    "version": 3
   },
   "file_extension": ".py",
   "mimetype": "text/x-python",
   "name": "python",
   "nbconvert_exporter": "python",
   "pygments_lexer": "ipython3",
   "version": "3.6.3"
  }
 },
 "nbformat": 4,
 "nbformat_minor": 2
}
